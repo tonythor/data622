{
 "cells": [
  {
   "cell_type": "code",
   "execution_count": 1,
   "id": "5ecd0d16-df85-4d41-881c-c2d0f7eb3c32",
   "metadata": {},
   "outputs": [
    {
     "name": "stderr",
     "output_type": "stream",
     "text": [
      "\u001b[32m2024-10-26 16:38:30.112\u001b[0m | \u001b[1mINFO    \u001b[0m | \u001b[36mlussi.imdb\u001b[0m:\u001b[36mload_imdb\u001b[0m:\u001b[36m231\u001b[0m - \u001b[1mLoaded augmented dataset from: augmented.parquet\u001b[0m\n"
     ]
    },
    {
     "name": "stdout",
     "output_type": "stream",
     "text": [
      "Rows: 1047620\n",
      "Columns: 37\n",
      "\n",
      "Column preview:\n",
      "--------------------------------------------------------------------------------\n",
      "tconst               <category> tt0000001, tt0000002, tt0000003, tt0000004, tt0000005\n",
      "primaryTitle         <string> Carmencita, Le clown et ses chiens, Poor Pierrot, Un bon bock, Blacksmith Scene\n",
      "runtimeMinutes       <Int64> 1, 5, 5, 12, 1\n",
      "numVotes             <int32> 2097, 283, 2106, 183, 2842\n",
      "rating_bin           <int64> 5, 5, 6, 5, 6\n",
      "numActors            <float64> 4.0, 2.0, 5.0, 2.0, 3.0\n",
      "actorNames           <string> Carmencita, William K.L. Dickson, William K.L. Dic..., Émile Reynaud, Gaston Paulin, Émile Reynaud, Julien Pappé, Émile Reynaud, Gaston..., Émile Reynaud, Gaston Paulin, Charles Kayser, John Ott, Thomas A. Edison\n",
      "Action               <int64> 0, 0, 0, 0, 0\n",
      "Adult                <int64> 0, 0, 0, 0, 0\n",
      "Adventure            <int64> 0, 0, 0, 0, 0\n",
      "Animation            <int64> 0, 1, 1, 1, 0\n",
      "Biography            <int64> 0, 0, 0, 0, 0\n",
      "Comedy               <int64> 0, 0, 1, 0, 1\n",
      "Crime                <int64> 0, 0, 0, 0, 0\n",
      "Documentary          <int64> 1, 0, 0, 0, 0\n",
      "Drama                <int64> 0, 0, 0, 0, 0\n",
      "Family               <int64> 0, 0, 0, 0, 0\n",
      "Fantasy              <int64> 0, 0, 0, 0, 0\n",
      "Film-Noir            <int64> 0, 0, 0, 0, 0\n",
      "Game-Show            <int64> 0, 0, 0, 0, 0\n",
      "History              <int64> 0, 0, 0, 0, 0\n",
      "Horror               <int64> 0, 0, 0, 0, 0\n",
      "Music                <int64> 0, 0, 0, 0, 0\n",
      "Musical              <int64> 0, 0, 0, 0, 0\n",
      "Mystery              <int64> 0, 0, 0, 0, 0\n",
      "News                 <int64> 0, 0, 0, 0, 0\n",
      "Reality-TV           <int64> 0, 0, 0, 0, 0\n",
      "Romance              <int64> 0, 0, 1, 0, 0\n",
      "Sci-Fi               <int64> 0, 0, 0, 0, 0\n",
      "Short                <int64> 1, 1, 0, 1, 1\n",
      "Sport                <int64> 0, 0, 0, 0, 0\n",
      "Talk-Show            <int64> 0, 0, 0, 0, 0\n",
      "Thriller             <int64> 0, 0, 0, 0, 0\n",
      "War                  <int64> 0, 0, 0, 0, 0\n",
      "Western              <int64> 0, 0, 0, 0, 0\n",
      "experienced_actor_count <int64> 3, 1, 2, 1, 1\n",
      "experienced_actors_likert <int64> 5, 4, 3, 4, 4\n"
     ]
    }
   ],
   "source": [
    "## for loading\n",
    "from lussi.imdb import *\n",
    "from lussi.glimpse import *\n",
    "#for rf\n",
    "from sklearn.model_selection import train_test_split\n",
    "from sklearn.ensemble import RandomForestRegressor\n",
    "import numpy as np\n",
    "\n",
    "df = load_imdb(\"622data_nogit/imdb\")\n",
    "glimpse(df) # before stripping string columns"
   ]
  },
  {
   "cell_type": "code",
   "execution_count": null,
   "id": "82b93584-ac31-499b-b482-bba57266b216",
   "metadata": {},
   "outputs": [],
   "source": [
    "df_dropped1 = df.drop(columns=['tconst', 'primaryTitle', 'actorNames'])\n",
    "model1, importance1, metrics1, predictions1 = train_and_evaluate_rf(df_dropped1)\n",
    "generate_summary_report(*predictions1, show_output=True)"
   ]
  },
  {
   "cell_type": "code",
   "execution_count": null,
   "id": "b85c23c8-dbdf-4042-89d4-69a678242806",
   "metadata": {},
   "outputs": [],
   "source": [
    "df_dropped2 = df.drop(columns=['tconst', 'primaryTitle', 'actorNames', 'numVotes'])\n",
    "model2, importance2, metrics2, predictions2 = train_and_evaluate_rf(df_dropped2)\n",
    "generate_summary_report(*predictions2, show_output=True)"
   ]
  },
  {
   "cell_type": "code",
   "execution_count": null,
   "id": "8236bc8f-b5f5-4910-887a-4249a2888d0c",
   "metadata": {},
   "outputs": [],
   "source": []
  }
 ],
 "metadata": {
  "kernelspec": {
   "display_name": "data622",
   "language": "python",
   "name": "data622"
  },
  "language_info": {
   "codemirror_mode": {
    "name": "ipython",
    "version": 3
   },
   "file_extension": ".py",
   "mimetype": "text/x-python",
   "name": "python",
   "nbconvert_exporter": "python",
   "pygments_lexer": "ipython3",
   "version": "3.10.15"
  }
 },
 "nbformat": 4,
 "nbformat_minor": 5
}
