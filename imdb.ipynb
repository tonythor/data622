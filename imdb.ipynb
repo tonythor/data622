{
 "cells": [
  {
   "cell_type": "code",
   "execution_count": 1,
   "id": "5ecd0d16-df85-4d41-881c-c2d0f7eb3c32",
   "metadata": {},
   "outputs": [
    {
     "name": "stderr",
     "output_type": "stream",
     "text": [
      "\u001b[32m2024-10-26 17:12:10.268\u001b[0m | \u001b[1mINFO    \u001b[0m | \u001b[36mlussi.imdb\u001b[0m:\u001b[36mload_imdb\u001b[0m:\u001b[36m231\u001b[0m - \u001b[1mLoaded augmented dataset from: augmented.parquet\u001b[0m\n"
     ]
    },
    {
     "name": "stdout",
     "output_type": "stream",
     "text": [
      "Rows: 1047620\n",
      "Columns: 37\n",
      "\n",
      "Column preview:\n",
      "--------------------------------------------------------------------------------\n",
      "tconst               <category> tt0000001, tt0000002, tt0000003, tt0000004, tt0000005\n",
      "primaryTitle         <string> Carmencita, Le clown et ses chiens, Poor Pierrot, Un bon bock, Blacksmith Scene\n",
      "runtimeMinutes       <Int64> 1, 5, 5, 12, 1\n",
      "numVotes             <int32> 2097, 283, 2106, 183, 2842\n",
      "rating_bin           <int64> 5, 5, 6, 5, 6\n",
      "numActors            <float64> 4.0, 2.0, 5.0, 2.0, 3.0\n",
      "actorNames           <string> Carmencita, William K.L. Dickson, William K.L. Dic..., Émile Reynaud, Gaston Paulin, Émile Reynaud, Julien Pappé, Émile Reynaud, Gaston..., Émile Reynaud, Gaston Paulin, Charles Kayser, John Ott, Thomas A. Edison\n",
      "Action               <int64> 0, 0, 0, 0, 0\n",
      "Adult                <int64> 0, 0, 0, 0, 0\n",
      "Adventure            <int64> 0, 0, 0, 0, 0\n",
      "Animation            <int64> 0, 1, 1, 1, 0\n",
      "Biography            <int64> 0, 0, 0, 0, 0\n",
      "Comedy               <int64> 0, 0, 1, 0, 1\n",
      "Crime                <int64> 0, 0, 0, 0, 0\n",
      "Documentary          <int64> 1, 0, 0, 0, 0\n",
      "Drama                <int64> 0, 0, 0, 0, 0\n",
      "Family               <int64> 0, 0, 0, 0, 0\n",
      "Fantasy              <int64> 0, 0, 0, 0, 0\n",
      "Film-Noir            <int64> 0, 0, 0, 0, 0\n",
      "Game-Show            <int64> 0, 0, 0, 0, 0\n",
      "History              <int64> 0, 0, 0, 0, 0\n",
      "Horror               <int64> 0, 0, 0, 0, 0\n",
      "Music                <int64> 0, 0, 0, 0, 0\n",
      "Musical              <int64> 0, 0, 0, 0, 0\n",
      "Mystery              <int64> 0, 0, 0, 0, 0\n",
      "News                 <int64> 0, 0, 0, 0, 0\n",
      "Reality-TV           <int64> 0, 0, 0, 0, 0\n",
      "Romance              <int64> 0, 0, 1, 0, 0\n",
      "Sci-Fi               <int64> 0, 0, 0, 0, 0\n",
      "Short                <int64> 1, 1, 0, 1, 1\n",
      "Sport                <int64> 0, 0, 0, 0, 0\n",
      "Talk-Show            <int64> 0, 0, 0, 0, 0\n",
      "Thriller             <int64> 0, 0, 0, 0, 0\n",
      "War                  <int64> 0, 0, 0, 0, 0\n",
      "Western              <int64> 0, 0, 0, 0, 0\n",
      "experienced_actor_count <int64> 3, 1, 2, 1, 1\n",
      "experienced_actors_likert <int64> 5, 4, 3, 4, 4\n"
     ]
    }
   ],
   "source": [
    "from lussi.imdb import *\n",
    "from lussi.glimpse import *\n",
    "\n",
    "df = load_imdb(\"622data_nogit/imdb\")\n",
    "glimpse(df) # before stripping string columns"
   ]
  },
  {
   "cell_type": "code",
   "execution_count": 3,
   "id": "82b93584-ac31-499b-b482-bba57266b216",
   "metadata": {
    "scrolled": true
   },
   "outputs": [
    {
     "name": "stdout",
     "output_type": "stream",
     "text": [
      "Top 10 most important features:\n",
      "                      feature  importance\n",
      "0              runtimeMinutes    0.258818\n",
      "1                    numVotes    0.224435\n",
      "31    experienced_actor_count    0.120067\n",
      "2                   numActors    0.116843\n",
      "32  experienced_actors_likert    0.031829\n",
      "10                Documentary    0.031399\n",
      "17                     Horror    0.025192\n",
      "8                      Comedy    0.022272\n",
      "11                      Drama    0.017058\n",
      "3                      Action    0.013418\n",
      "\n",
      "Model Performance:\n",
      "R2 Score: 0.320\n",
      "Root Mean Squared Error: 1.130\n",
      "\n",
      "Total model train and execution time: 0:05:21.928681 \n",
      "\n",
      "\n",
      "**Accuracy Measures:**\n",
      "- 42.25% exact matches (got the rating bin exactly right)\n",
      "- 84.09% within 1 bin (either exact or just one bin off)\n",
      "\n",
      "**Distribution of Errors:**\n",
      "- 42.3% perfect predictions (0 bins off)\n",
      "- 41.8% off by just 1 bin (22.8% low + 19.0% high)\n",
      "- Only 15.9% off by more than 1 bin\n",
      "- Major mistakes (off by 3 or more bins): 4.0%\n",
      "\n",
      "**Putting It in Perspective:**\n",
      "If you're trying to predict if a movie is 'good' (7–8), 'great' (8–9), or 'excellent' (9–10), you'll be within the right range 84.09% of the time. Major errors are pretty rare, happening less than 4.0% of the time.\n"
     ]
    }
   ],
   "source": [
    "## This assumes a number of votes already. Unlikely. \n",
    "df_dropped1 = df.drop(columns=['tconst', 'primaryTitle', 'actorNames'])\n",
    "model1, importance1, metrics1, predictions1 = train_and_evaluate_rf(df_dropped1)\n",
    "generate_summary_report(*predictions1)"
   ]
  },
  {
   "cell_type": "code",
   "execution_count": 5,
   "id": "b85c23c8-dbdf-4042-89d4-69a678242806",
   "metadata": {},
   "outputs": [
    {
     "name": "stdout",
     "output_type": "stream",
     "text": [
      "Top 10 most important features:\n",
      "                      feature  importance\n",
      "0              runtimeMinutes    0.335176\n",
      "1                   numActors    0.155585\n",
      "30    experienced_actor_count    0.155200\n",
      "31  experienced_actors_likert    0.042990\n",
      "9                 Documentary    0.037975\n",
      "16                     Horror    0.029839\n",
      "7                      Comedy    0.027615\n",
      "10                      Drama    0.019990\n",
      "4                   Adventure    0.015305\n",
      "22                    Romance    0.015029\n",
      "\n",
      "Model Performance:\n",
      "R2 Score: 0.220\n",
      "Root Mean Squared Error: 1.210\n",
      "\n",
      "Total model train and execution time: 0:04:00.238639 \n",
      "\n",
      "\n",
      "**Accuracy Measures:**\n",
      "- 39.10% exact matches (got the rating bin exactly right)\n",
      "- 81.69% within 1 bin (either exact or just one bin off)\n",
      "\n",
      "**Distribution of Errors:**\n",
      "- 39.1% perfect predictions (0 bins off)\n",
      "- 42.6% off by just 1 bin (23.1% low + 19.5% high)\n",
      "- Only 18.3% off by more than 1 bin\n",
      "- Major mistakes (off by 3 or more bins): 5.0%\n",
      "\n",
      "**Putting It in Perspective:**\n",
      "If you're trying to predict if a movie is 'good' (7–8), 'great' (8–9), or 'excellent' (9–10), you'll be within the right range 81.69% of the time. Major errors are pretty rare, happening less than 5.0% of the time.\n"
     ]
    }
   ],
   "source": [
    "# This is a new program with no votes at all. \n",
    "df_dropped2 = df.drop(columns=['tconst', 'primaryTitle', 'actorNames', 'numVotes'])\n",
    "model2, importance2, metrics2, predictions2 = train_and_evaluate_rf(df_dropped2)\n",
    "generate_summary_report(*predictions2)"
   ]
  },
  {
   "cell_type": "code",
   "execution_count": null,
   "id": "8236bc8f-b5f5-4910-887a-4249a2888d0c",
   "metadata": {},
   "outputs": [],
   "source": []
  }
 ],
 "metadata": {
  "kernelspec": {
   "display_name": "data622",
   "language": "python",
   "name": "data622"
  },
  "language_info": {
   "codemirror_mode": {
    "name": "ipython",
    "version": 3
   },
   "file_extension": ".py",
   "mimetype": "text/x-python",
   "name": "python",
   "nbconvert_exporter": "python",
   "pygments_lexer": "ipython3",
   "version": "3.10.15"
  }
 },
 "nbformat": 4,
 "nbformat_minor": 5
}
